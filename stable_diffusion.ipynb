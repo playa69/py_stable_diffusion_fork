{
 "cells": [
  {
   "cell_type": "code",
   "execution_count": null,
   "id": "5c010fd3-6d02-438d-8b04-18c5c1c5b41b",
   "metadata": {},
   "outputs": [],
   "source": [
    "%pip install --quiet --upgrade diffusers transformers accelerate invisible_watermark mediapy\n",
    "     \n",
    "\n",
    "use_refiner = False\n",
    "     "
   ]
  },
  {
   "cell_type": "code",
   "execution_count": null,
   "id": "b8c3460f-1970-42ea-8e46-10503eaf6e17",
   "metadata": {},
   "outputs": [],
   "source": [
    "#Библиотечки:#"
   ]
  },
  {
   "cell_type": "code",
   "execution_count": null,
   "id": "cb410ecb-1c43-40ca-9c2d-e5c4afcdeab8",
   "metadata": {},
   "outputs": [],
   "source": [
    "import mediapy as media\n",
    "import random\n",
    "import sys\n",
    "import torch\n",
    "\n",
    "\n",
    "     \n",
    "\n"
   ]
  },
  {
   "cell_type": "code",
   "execution_count": null,
   "id": "db4ad1c4-a3a5-41d9-bc12-d408021f2a5c",
   "metadata": {},
   "outputs": [],
   "source": [
    "#Пайплайн:#"
   ]
  },
  {
   "cell_type": "code",
   "execution_count": null,
   "id": "34567957-fa0d-4f86-ad0c-57640f58e840",
   "metadata": {},
   "outputs": [],
   "source": [
    "from diffusers import DiffusionPipeline\n",
    "\n",
    "pipe = DiffusionPipeline.from_pretrained(\n",
    "    \"stabilityai/stable-diffusion-xl-base-1.0\",\n",
    "    torch_dtype=torch.float16,\n",
    "    use_safetensors=True,\n",
    "    variant=\"fp16\",\n",
    "    )\n",
    "\n",
    "if use_refiner:\n",
    "  refiner = DiffusionPipeline.from_pretrained(\n",
    "      \"stabilityai/stable-diffusion-xl-refiner-1.0\",\n",
    "      text_encoder_2=pipe.text_encoder_2,\n",
    "      vae=pipe.vae,\n",
    "      torch_dtype=torch.float16,\n",
    "      use_safetensors=True,\n",
    "      variant=\"fp16\",\n",
    "  )\n",
    "\n",
    "  refiner = refiner.to(\"cuda\")\n",
    "\n",
    "  pipe.enable_model_cpu_offload()\n",
    "else:\n",
    "  pipe = pipe.to(\"cuda\")"
   ]
  },
  {
   "cell_type": "code",
   "execution_count": 1,
   "id": "a161c432-32cf-4708-a311-30c302106343",
   "metadata": {},
   "outputs": [
    {
     "ename": "SyntaxError",
     "evalue": "invalid syntax (2778353471.py, line 1)",
     "output_type": "error",
     "traceback": [
      "\u001b[1;36m  Cell \u001b[1;32mIn[1], line 1\u001b[1;36m\u001b[0m\n\u001b[1;33m    Промпт text-2-image:\u001b[0m\n\u001b[1;37m           ^\u001b[0m\n\u001b[1;31mSyntaxError\u001b[0m\u001b[1;31m:\u001b[0m invalid syntax\n"
     ]
    }
   ],
   "source": [
    "#Промпт text-2-image:#"
   ]
  },
  {
   "cell_type": "code",
   "execution_count": null,
   "id": "f5cf0ab0-6190-49f5-b256-897fb6480439",
   "metadata": {},
   "outputs": [],
   "source": [
    "prompt = \"a blonde girl with tunnels in her ears cuts and dyes the fur of a large gray Maine Coon\"\n",
    "seed = random.randint(0, sys.maxsize)\n",
    "\n",
    "images = pipe(\n",
    "    prompt = prompt,\n",
    "    output_type = \"latent\" if use_refiner else \"pil\",\n",
    "    generator = torch.Generator(\"cuda\").manual_seed(seed),\n",
    "    ).images\n",
    "\n",
    "if use_refiner:\n",
    "  images = refiner(\n",
    "      prompt = prompt,\n",
    "      image = images,\n",
    "      ).images\n",
    "\n",
    "print(f\"Prompt:\\t{prompt}\\nSeed:\\t{seed}\")\n",
    "media.show_images(images)\n",
    "images[0].save(\"output.jpg\")"
   ]
  }
 ],
 "metadata": {
  "kernelspec": {
   "display_name": "Python 3 (ipykernel)",
   "language": "python",
   "name": "python3"
  },
  "language_info": {
   "codemirror_mode": {
    "name": "ipython",
    "version": 3
   },
   "file_extension": ".py",
   "mimetype": "text/x-python",
   "name": "python",
   "nbconvert_exporter": "python",
   "pygments_lexer": "ipython3",
   "version": "3.12.0"
  }
 },
 "nbformat": 4,
 "nbformat_minor": 5
}
